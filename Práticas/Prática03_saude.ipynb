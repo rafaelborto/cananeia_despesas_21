{
 "cells": [
  {
   "cell_type": "code",
   "execution_count": 17,
   "id": "702a621a",
   "metadata": {},
   "outputs": [
    {
     "data": {
      "text/html": [
       "<div>\n",
       "<style scoped>\n",
       "    .dataframe tbody tr th:only-of-type {\n",
       "        vertical-align: middle;\n",
       "    }\n",
       "\n",
       "    .dataframe tbody tr th {\n",
       "        vertical-align: top;\n",
       "    }\n",
       "\n",
       "    .dataframe thead th {\n",
       "        text-align: right;\n",
       "    }\n",
       "</style>\n",
       "<table border=\"1\" class=\"dataframe\">\n",
       "  <thead>\n",
       "    <tr style=\"text-align: right;\">\n",
       "      <th></th>\n",
       "      <th>id_despesa_detalhe</th>\n",
       "      <th>mes_ref_extenso</th>\n",
       "      <th>tp_despesa</th>\n",
       "      <th>identificador_despesa</th>\n",
       "      <th>ds_despesa</th>\n",
       "      <th>vl_despesa</th>\n",
       "      <th>ds_funcao_governo</th>\n",
       "      <th>ds_subfuncao_governo</th>\n",
       "      <th>ds_programa</th>\n",
       "      <th>ds_acao</th>\n",
       "      <th>ds_fonte_recurso</th>\n",
       "      <th>historico_despesa</th>\n",
       "    </tr>\n",
       "  </thead>\n",
       "  <tbody>\n",
       "    <tr>\n",
       "      <th>0</th>\n",
       "      <td>501105720</td>\n",
       "      <td>Janeiro</td>\n",
       "      <td>Empenhado</td>\n",
       "      <td>IDENTIFICAÇÃO ESPECIAL - SEM CPF/CNPJ - 000000...</td>\n",
       "      <td>FP-SAUDE</td>\n",
       "      <td>6837,45</td>\n",
       "      <td>SAÚDE</td>\n",
       "      <td>ATENÇÃO BÁSICA</td>\n",
       "      <td>SERVIÇOS DE SAÚDE PÚBLICA</td>\n",
       "      <td>Manutenção dos Serviços de Saúde Pública</td>\n",
       "      <td>TESOURO</td>\n",
       "      <td>FOLHA DE PAGAMENTO MES DE JANEIRO/21 GAB.DO SE...</td>\n",
       "    </tr>\n",
       "    <tr>\n",
       "      <th>1</th>\n",
       "      <td>501105721</td>\n",
       "      <td>Janeiro</td>\n",
       "      <td>Empenhado</td>\n",
       "      <td>CNPJ - PESSOA JURÍDICA - 07129517000124</td>\n",
       "      <td>ARGEMIRO VENANCIO DA COSTA FILHO- ME</td>\n",
       "      <td>4344,56</td>\n",
       "      <td>SAÚDE</td>\n",
       "      <td>ATENÇÃO BÁSICA</td>\n",
       "      <td>SERVIÇOS DE SAÚDE PÚBLICA</td>\n",
       "      <td>Atendimento Básico</td>\n",
       "      <td>TESOURO</td>\n",
       "      <td>GENEROS ALIMENTICIOS, GENEROS ALIMENTICIOS</td>\n",
       "    </tr>\n",
       "    <tr>\n",
       "      <th>2</th>\n",
       "      <td>501105722</td>\n",
       "      <td>Janeiro</td>\n",
       "      <td>Empenhado</td>\n",
       "      <td>IDENTIFICAÇÃO ESPECIAL - SEM CPF/CNPJ - 000000...</td>\n",
       "      <td>DELANIA FRANCISCA DA ROCHA</td>\n",
       "      <td>3200,00</td>\n",
       "      <td>SAÚDE</td>\n",
       "      <td>ATENÇÃO BÁSICA</td>\n",
       "      <td>SERVIÇOS DE SAÚDE PÚBLICA</td>\n",
       "      <td>Atendimento E.S.F.</td>\n",
       "      <td>TESOURO</td>\n",
       "      <td>PROGRAMA MAIS MÉDICOS - AUXILIO ALIMENTAÇÃO E ...</td>\n",
       "    </tr>\n",
       "    <tr>\n",
       "      <th>3</th>\n",
       "      <td>501105723</td>\n",
       "      <td>Janeiro</td>\n",
       "      <td>Empenhado</td>\n",
       "      <td>IDENTIFICAÇÃO ESPECIAL - SEM CPF/CNPJ - 000000...</td>\n",
       "      <td>FP-SAUDE</td>\n",
       "      <td>6983,52</td>\n",
       "      <td>SAÚDE</td>\n",
       "      <td>ATENÇÃO BÁSICA</td>\n",
       "      <td>SERVIÇOS DE SAÚDE PÚBLICA</td>\n",
       "      <td>Aquisição e Dispensação de Medicamentos</td>\n",
       "      <td>TESOURO</td>\n",
       "      <td>FOLHA DE PAGAMENTO MES DE JANEIRO/21 ASSIST.FA...</td>\n",
       "    </tr>\n",
       "    <tr>\n",
       "      <th>4</th>\n",
       "      <td>501105724</td>\n",
       "      <td>Janeiro</td>\n",
       "      <td>Empenhado</td>\n",
       "      <td>CNPJ - PESSOA JURÍDICA - 67372052000160</td>\n",
       "      <td>SOLDA ACO COMERCIAL LTDA</td>\n",
       "      <td>88,20</td>\n",
       "      <td>SAÚDE</td>\n",
       "      <td>ASSISTÊNCIA HOSPITALAR E AMBULATORIAL</td>\n",
       "      <td>SERVIÇOS DE SAÚDE PÚBLICA</td>\n",
       "      <td>Preservar o Atendimento Hospitalar e Ambulatorial</td>\n",
       "      <td>TESOURO</td>\n",
       "      <td>OXIGENIO GASOSO MEDICINAL, OXIGENIO GASOSO MED...</td>\n",
       "    </tr>\n",
       "  </tbody>\n",
       "</table>\n",
       "</div>"
      ],
      "text/plain": [
       "   id_despesa_detalhe mes_ref_extenso tp_despesa  \\\n",
       "0           501105720         Janeiro  Empenhado   \n",
       "1           501105721         Janeiro  Empenhado   \n",
       "2           501105722         Janeiro  Empenhado   \n",
       "3           501105723         Janeiro  Empenhado   \n",
       "4           501105724         Janeiro  Empenhado   \n",
       "\n",
       "                               identificador_despesa  \\\n",
       "0  IDENTIFICAÇÃO ESPECIAL - SEM CPF/CNPJ - 000000...   \n",
       "1            CNPJ - PESSOA JURÍDICA - 07129517000124   \n",
       "2  IDENTIFICAÇÃO ESPECIAL - SEM CPF/CNPJ - 000000...   \n",
       "3  IDENTIFICAÇÃO ESPECIAL - SEM CPF/CNPJ - 000000...   \n",
       "4            CNPJ - PESSOA JURÍDICA - 67372052000160   \n",
       "\n",
       "                             ds_despesa vl_despesa ds_funcao_governo  \\\n",
       "0                              FP-SAUDE    6837,45             SAÚDE   \n",
       "1  ARGEMIRO VENANCIO DA COSTA FILHO- ME    4344,56             SAÚDE   \n",
       "2            DELANIA FRANCISCA DA ROCHA    3200,00             SAÚDE   \n",
       "3                              FP-SAUDE    6983,52             SAÚDE   \n",
       "4              SOLDA ACO COMERCIAL LTDA      88,20             SAÚDE   \n",
       "\n",
       "                    ds_subfuncao_governo                ds_programa  \\\n",
       "0                         ATENÇÃO BÁSICA  SERVIÇOS DE SAÚDE PÚBLICA   \n",
       "1                         ATENÇÃO BÁSICA  SERVIÇOS DE SAÚDE PÚBLICA   \n",
       "2                         ATENÇÃO BÁSICA  SERVIÇOS DE SAÚDE PÚBLICA   \n",
       "3                         ATENÇÃO BÁSICA  SERVIÇOS DE SAÚDE PÚBLICA   \n",
       "4  ASSISTÊNCIA HOSPITALAR E AMBULATORIAL  SERVIÇOS DE SAÚDE PÚBLICA   \n",
       "\n",
       "                                             ds_acao ds_fonte_recurso  \\\n",
       "0           Manutenção dos Serviços de Saúde Pública          TESOURO   \n",
       "1                                 Atendimento Básico          TESOURO   \n",
       "2                                 Atendimento E.S.F.          TESOURO   \n",
       "3            Aquisição e Dispensação de Medicamentos          TESOURO   \n",
       "4  Preservar o Atendimento Hospitalar e Ambulatorial          TESOURO   \n",
       "\n",
       "                                   historico_despesa  \n",
       "0  FOLHA DE PAGAMENTO MES DE JANEIRO/21 GAB.DO SE...  \n",
       "1         GENEROS ALIMENTICIOS, GENEROS ALIMENTICIOS  \n",
       "2  PROGRAMA MAIS MÉDICOS - AUXILIO ALIMENTAÇÃO E ...  \n",
       "3  FOLHA DE PAGAMENTO MES DE JANEIRO/21 ASSIST.FA...  \n",
       "4  OXIGENIO GASOSO MEDICINAL, OXIGENIO GASOSO MED...  "
      ]
     },
     "execution_count": 17,
     "metadata": {},
     "output_type": "execute_result"
    }
   ],
   "source": [
    "import pandas as pd\n",
    "desp21 = pd.read_csv('desp21_saude.csv', sep = ';')\n",
    "desp21.head(5)"
   ]
  },
  {
   "cell_type": "code",
   "execution_count": 20,
   "id": "4f761ac8",
   "metadata": {},
   "outputs": [
    {
     "name": "stdout",
     "output_type": "stream",
     "text": [
      "<class 'pandas.core.frame.DataFrame'>\n",
      "RangeIndex: 3963 entries, 0 to 3962\n",
      "Data columns (total 12 columns):\n",
      " #   Column                 Non-Null Count  Dtype \n",
      "---  ------                 --------------  ----- \n",
      " 0   id_despesa_detalhe     3963 non-null   int64 \n",
      " 1   mes_ref_extenso        3963 non-null   object\n",
      " 2   tp_despesa             3963 non-null   object\n",
      " 3   identificador_despesa  3963 non-null   object\n",
      " 4   ds_despesa             3963 non-null   object\n",
      " 5   vl_despesa             3963 non-null   object\n",
      " 6   ds_funcao_governo      3963 non-null   object\n",
      " 7   ds_subfuncao_governo   3963 non-null   object\n",
      " 8   ds_programa            3963 non-null   object\n",
      " 9   ds_acao                3963 non-null   object\n",
      " 10  ds_fonte_recurso       3963 non-null   object\n",
      " 11  historico_despesa      3963 non-null   object\n",
      "dtypes: int64(1), object(11)\n",
      "memory usage: 371.7+ KB\n"
     ]
    }
   ],
   "source": [
    "\n",
    "\n",
    "#se eu não especificar o axis, ele vai tentar eliminar da LINHA\n",
    "\n",
    "desp21.info()"
   ]
  },
  {
   "cell_type": "code",
   "execution_count": 22,
   "id": "8e0f54b9",
   "metadata": {},
   "outputs": [],
   "source": [
    "# desp21.groupby([\"ds_funcao_governo\", \"tp_despesa\"])[\"vl_despesa\"].mean()"
   ]
  },
  {
   "cell_type": "markdown",
   "id": "b7052a25",
   "metadata": {},
   "source": [
    "df['DataFrame Column'] = pd.to_numeric(df['DataFrame Column']"
   ]
  },
  {
   "cell_type": "code",
   "execution_count": 28,
   "id": "b9cbb862",
   "metadata": {},
   "outputs": [],
   "source": [
    "# desp21['vl_despesa'] = pd.to_numeric(desp21['vl_despesa'])\n",
    "# desp21['vl_despesa'] = desp21['vl_despesa'].astype(int)\n"
   ]
  },
  {
   "cell_type": "code",
   "execution_count": 29,
   "id": "b5678a44",
   "metadata": {},
   "outputs": [],
   "source": [
    "s = desp21['vl_despesa']"
   ]
  },
  {
   "cell_type": "code",
   "execution_count": 32,
   "id": "f33ef330",
   "metadata": {},
   "outputs": [],
   "source": [
    "s = s.replace(',', '.')"
   ]
  },
  {
   "cell_type": "code",
   "execution_count": 34,
   "id": "29b3f045",
   "metadata": {},
   "outputs": [
    {
     "ename": "ValueError",
     "evalue": "Unable to parse string \"6837,45\" at position 0",
     "output_type": "error",
     "traceback": [
      "\u001b[1;31m---------------------------------------------------------------------------\u001b[0m",
      "\u001b[1;31mValueError\u001b[0m                                Traceback (most recent call last)",
      "\u001b[1;32m~\\anaconda3\\lib\\site-packages\\pandas\\_libs\\lib.pyx\u001b[0m in \u001b[0;36mpandas._libs.lib.maybe_convert_numeric\u001b[1;34m()\u001b[0m\n",
      "\u001b[1;31mValueError\u001b[0m: Unable to parse string \"6837,45\"",
      "\nDuring handling of the above exception, another exception occurred:\n",
      "\u001b[1;31mValueError\u001b[0m                                Traceback (most recent call last)",
      "\u001b[1;32m~\\AppData\\Local\\Temp/ipykernel_14768/3587437811.py\u001b[0m in \u001b[0;36m<module>\u001b[1;34m\u001b[0m\n\u001b[1;32m----> 1\u001b[1;33m \u001b[0ms\u001b[0m \u001b[1;33m=\u001b[0m \u001b[0mpd\u001b[0m\u001b[1;33m.\u001b[0m\u001b[0mto_numeric\u001b[0m\u001b[1;33m(\u001b[0m\u001b[0ms\u001b[0m\u001b[1;33m)\u001b[0m\u001b[1;33m\u001b[0m\u001b[1;33m\u001b[0m\u001b[0m\n\u001b[0m",
      "\u001b[1;32m~\\anaconda3\\lib\\site-packages\\pandas\\core\\tools\\numeric.py\u001b[0m in \u001b[0;36mto_numeric\u001b[1;34m(arg, errors, downcast)\u001b[0m\n\u001b[0;32m    181\u001b[0m         \u001b[0mcoerce_numeric\u001b[0m \u001b[1;33m=\u001b[0m \u001b[0merrors\u001b[0m \u001b[1;32mnot\u001b[0m \u001b[1;32min\u001b[0m \u001b[1;33m(\u001b[0m\u001b[1;34m\"ignore\"\u001b[0m\u001b[1;33m,\u001b[0m \u001b[1;34m\"raise\"\u001b[0m\u001b[1;33m)\u001b[0m\u001b[1;33m\u001b[0m\u001b[1;33m\u001b[0m\u001b[0m\n\u001b[0;32m    182\u001b[0m         \u001b[1;32mtry\u001b[0m\u001b[1;33m:\u001b[0m\u001b[1;33m\u001b[0m\u001b[1;33m\u001b[0m\u001b[0m\n\u001b[1;32m--> 183\u001b[1;33m             values, _ = lib.maybe_convert_numeric(\n\u001b[0m\u001b[0;32m    184\u001b[0m                 \u001b[0mvalues\u001b[0m\u001b[1;33m,\u001b[0m \u001b[0mset\u001b[0m\u001b[1;33m(\u001b[0m\u001b[1;33m)\u001b[0m\u001b[1;33m,\u001b[0m \u001b[0mcoerce_numeric\u001b[0m\u001b[1;33m=\u001b[0m\u001b[0mcoerce_numeric\u001b[0m\u001b[1;33m\u001b[0m\u001b[1;33m\u001b[0m\u001b[0m\n\u001b[0;32m    185\u001b[0m             )\n",
      "\u001b[1;32m~\\anaconda3\\lib\\site-packages\\pandas\\_libs\\lib.pyx\u001b[0m in \u001b[0;36mpandas._libs.lib.maybe_convert_numeric\u001b[1;34m()\u001b[0m\n",
      "\u001b[1;31mValueError\u001b[0m: Unable to parse string \"6837,45\" at position 0"
     ]
    }
   ],
   "source": [
    "s = pd.to_numeric(s)"
   ]
  },
  {
   "cell_type": "code",
   "execution_count": null,
   "id": "90caec04",
   "metadata": {},
   "outputs": [],
   "source": []
  }
 ],
 "metadata": {
  "kernelspec": {
   "display_name": "Python 3 (ipykernel)",
   "language": "python",
   "name": "python3"
  },
  "language_info": {
   "codemirror_mode": {
    "name": "ipython",
    "version": 3
   },
   "file_extension": ".py",
   "mimetype": "text/x-python",
   "name": "python",
   "nbconvert_exporter": "python",
   "pygments_lexer": "ipython3",
   "version": "3.9.7"
  }
 },
 "nbformat": 4,
 "nbformat_minor": 5
}
